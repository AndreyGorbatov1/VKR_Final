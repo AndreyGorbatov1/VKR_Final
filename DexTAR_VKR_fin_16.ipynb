{
 "cells": [
  {
   "cell_type": "code",
   "execution_count": 1,
   "metadata": {},
   "outputs": [],
   "source": [
    "import time\n",
    "import numpy as np\n",
    "import matplotlib.pyplot as plt\n",
    "from matplotlib.patches import Rectangle\n",
    "from scipy.optimize import fsolve\n",
    "import math\n",
    "import numpy.linalg as LA\n",
    "import sympy as sp\n",
    "import random"
   ]
  },
  {
   "cell_type": "code",
   "execution_count": 2,
   "metadata": {},
   "outputs": [],
   "source": [
    "tol = 1e-5"
   ]
  },
  {
   "cell_type": "code",
   "execution_count": 3,
   "metadata": {},
   "outputs": [],
   "source": [
    "x, y, t1, t2, f1, f2, l, L, d = sp.symbols('x y t1 t2 f1 f2 l L d')\n",
    "la = 13. # l у основания\n",
    "lb = 13. # l у основания\n",
    "lc = 4.25 #L\n",
    "ld = 4.25 #L\n",
    "l = la # l у основания\n",
    "L = lc #L\n",
    "d = 12.\n",
    "work_space = []\n",
    "diff_symb = [x, y, t1, t2, f1, f2]\n",
    "out_and_pass = [x, y, f1, f2]\n",
    "in_and_pass = [t1, t2, f1, f2]\n",
    "func1 = sp.Function('func1')\n",
    "func2 = sp.Function('func2')\n",
    "func3 = sp.Function('func3')\n",
    "func4 = sp.Function('func4')"
   ]
  },
  {
   "cell_type": "code",
   "execution_count": 4,
   "metadata": {},
   "outputs": [],
   "source": [
    "func1 = x-l*sp.cos(t1)-L*sp.cos(f1)\n",
    "func2 = x-l*sp.cos(t2)-L*sp.cos(f2)-d\n",
    "func3 = y-l*sp.sin(t1)-L*sp.sin(f1)\n",
    "func4 = y-l*sp.sin(t2)-L*sp.sin(f2)\n",
    "F = [func1, func2, func3, func4]"
   ]
  },
  {
   "cell_type": "code",
   "execution_count": 5,
   "metadata": {},
   "outputs": [
    {
     "data": {
      "text/latex": [
       "$\\displaystyle \\left[\\begin{matrix}1 & 0 & 4.25 \\sin{\\left(f_{1} \\right)} & 0\\\\1 & 0 & 0 & 4.25 \\sin{\\left(f_{2} \\right)}\\\\0 & 1 & - 4.25 \\cos{\\left(f_{1} \\right)} & 0\\\\0 & 1 & 0 & - 4.25 \\cos{\\left(f_{2} \\right)}\\end{matrix}\\right]$"
      ],
      "text/plain": [
       "Matrix([\n",
       "[1, 0,  4.25*sin(f1),             0],\n",
       "[1, 0,             0,  4.25*sin(f2)],\n",
       "[0, 1, -4.25*cos(f1),             0],\n",
       "[0, 1,             0, -4.25*cos(f2)]])"
      ]
     },
     "execution_count": 5,
     "metadata": {},
     "output_type": "execute_result"
    }
   ],
   "source": [
    "J_out_and_pass = sp.zeros(len(F),len(out_and_pass))\n",
    "i=0\n",
    "j=0\n",
    "while i < len(F):\n",
    "    j=0\n",
    "    while j < len(out_and_pass):\n",
    "        J_out_and_pass[i,j] = sp.diff(F[i], out_and_pass[j])\n",
    "        j+=1\n",
    "    i+=1\n",
    "J_out_and_pass"
   ]
  },
  {
   "cell_type": "code",
   "execution_count": 6,
   "metadata": {},
   "outputs": [
    {
     "data": {
      "text/latex": [
       "$\\displaystyle \\left[\\begin{matrix}13.0 \\sin{\\left(t_{1} \\right)} & 0 & 4.25 \\sin{\\left(f_{1} \\right)} & 0\\\\0 & 13.0 \\sin{\\left(t_{2} \\right)} & 0 & 4.25 \\sin{\\left(f_{2} \\right)}\\\\- 13.0 \\cos{\\left(t_{1} \\right)} & 0 & - 4.25 \\cos{\\left(f_{1} \\right)} & 0\\\\0 & - 13.0 \\cos{\\left(t_{2} \\right)} & 0 & - 4.25 \\cos{\\left(f_{2} \\right)}\\end{matrix}\\right]$"
      ],
      "text/plain": [
       "Matrix([\n",
       "[ 13.0*sin(t1),             0,  4.25*sin(f1),             0],\n",
       "[            0,  13.0*sin(t2),             0,  4.25*sin(f2)],\n",
       "[-13.0*cos(t1),             0, -4.25*cos(f1),             0],\n",
       "[            0, -13.0*cos(t2),             0, -4.25*cos(f2)]])"
      ]
     },
     "execution_count": 6,
     "metadata": {},
     "output_type": "execute_result"
    }
   ],
   "source": [
    "J_in_and_pass = sp.zeros(len(F),len(in_and_pass))\n",
    "i=0\n",
    "j=0\n",
    "while i < len(F):\n",
    "    j=0\n",
    "    while j < len(in_and_pass):\n",
    "        J_in_and_pass[i,j] = sp.diff(F[i], in_and_pass[j])\n",
    "        j+=1\n",
    "    i+=1\n",
    "J_in_and_pass"
   ]
  },
  {
   "cell_type": "code",
   "execution_count": 7,
   "metadata": {},
   "outputs": [
    {
     "data": {
      "text/latex": [
       "$\\displaystyle - 18.0625 \\sin{\\left(f_{1} - f_{2} \\right)}$"
      ],
      "text/plain": [
       "-18.0625*sin(f1 - f2)"
      ]
     },
     "execution_count": 7,
     "metadata": {},
     "output_type": "execute_result"
    }
   ],
   "source": [
    "sp.simplify(J_out_and_pass.det())"
   ]
  },
  {
   "cell_type": "code",
   "execution_count": 8,
   "metadata": {},
   "outputs": [
    {
     "data": {
      "text/latex": [
       "$\\displaystyle 3052.5625 \\sin{\\left(f_{1} - t_{1} \\right)} \\sin{\\left(f_{2} - t_{2} \\right)}$"
      ],
      "text/plain": [
       "3052.5625*sin(f1 - t1)*sin(f2 - t2)"
      ]
     },
     "execution_count": 8,
     "metadata": {},
     "output_type": "execute_result"
    }
   ],
   "source": [
    "sp.simplify(J_in_and_pass.det())"
   ]
  },
  {
   "cell_type": "code",
   "execution_count": 9,
   "metadata": {},
   "outputs": [],
   "source": [
    "symp_sing1 = sp.simplify(J_in_and_pass.det())\n",
    "const1 = symp_sing1.func(*[term for term in symp_sing1.args if not term.free_symbols])\n",
    "symp_sing1 = symp_sing1/const1\n",
    "sing_f_1 = sp.lambdify(diff_symb, symp_sing1, 'numpy')\n",
    "\n",
    "symp_sing2 = sp.simplify(J_out_and_pass.det())\n",
    "const2 = symp_sing2.func(*[term for term in symp_sing2.args if not term.free_symbols])\n",
    "symp_sing2 = symp_sing2/const2\n",
    "sing_f_2 = sp.lambdify(diff_symb, symp_sing2, 'numpy')"
   ]
  },
  {
   "cell_type": "code",
   "execution_count": 10,
   "metadata": {},
   "outputs": [],
   "source": [
    "min_val_cartesian, max_val_cartesian = -16, 16\n",
    "min_val_revolute, max_val_revolute = -np.pi, np.pi\n",
    "v1 = np.linspace(min_val_cartesian, max_val_cartesian, int((max_val_cartesian-min_val_cartesian)/2)+1)\n",
    "# v2 = np.linspace(min_val_revolute, max_val_revolute, int((max_val_revolute-min_val_revolute)/2)+1)\n",
    "v2 = np.linspace(min_val_revolute, max_val_revolute, 5)\n",
    "\n",
    "appr = []\n",
    "\n",
    "for i in v1:\n",
    "    for j in v1:\n",
    "        for k in v2:\n",
    "            for o in v2:\n",
    "                for m in v2:\n",
    "                    for p in v2:  \n",
    "                        appr.append([i,j,k,o,m,p])"
   ]
  },
  {
   "cell_type": "code",
   "execution_count": 11,
   "metadata": {},
   "outputs": [
    {
     "data": {
      "text/plain": [
       "array([-16., -14., -12., -10.,  -8.,  -6.,  -4.,  -2.,   0.,   2.,   4.,\n",
       "         6.,   8.,  10.,  12.,  14.,  16.])"
      ]
     },
     "execution_count": 11,
     "metadata": {},
     "output_type": "execute_result"
    }
   ],
   "source": [
    "v1"
   ]
  },
  {
   "cell_type": "code",
   "execution_count": 12,
   "metadata": {},
   "outputs": [
    {
     "data": {
      "text/plain": [
       "array([-3.14159265, -1.57079633,  0.        ,  1.57079633,  3.14159265])"
      ]
     },
     "execution_count": 12,
     "metadata": {},
     "output_type": "execute_result"
    }
   ],
   "source": [
    "v2"
   ]
  },
  {
   "cell_type": "code",
   "execution_count": 13,
   "metadata": {},
   "outputs": [
    {
     "data": {
      "text/plain": [
       "180625"
      ]
     },
     "execution_count": 13,
     "metadata": {},
     "output_type": "execute_result"
    }
   ],
   "source": [
    "len(appr)"
   ]
  },
  {
   "cell_type": "code",
   "execution_count": 14,
   "metadata": {},
   "outputs": [],
   "source": [
    "def is_inside(x, y, d):\n",
    "    D1=(2 * (-1*(x)/(y)) * ( (x)**2/(2*y) + y/2 + (la**2-lc**2)/(2*y) ))**2 - 4*(1 + ((x)**2)/(y**2) ) * ( ( (x)**2/(2*y) + y/2 + (la**2-lc**2)/(2*y) )**2 - la**2) \n",
    "    D2=(2 * (-1*(x-d)/(y)) * ( (x-d)**2/(2*y) + y/2 + (la**2-lc**2)/(2*y) ))**2 - 4*(1 + ((x-d)**2)/(y**2) ) * ( ( (x-d)**2/(2*y) + y/2 + (la**2-lc**2)/(2*y) )**2 - la**2)     \n",
    "    if D1 >= 0 and D2 >= 0:\n",
    "        work_space.append([x,y])\n",
    "        return 1\n",
    "    return 0"
   ]
  },
  {
   "cell_type": "code",
   "execution_count": 15,
   "metadata": {},
   "outputs": [],
   "source": [
    "def kinematic_eq_sing1(z):\n",
    "    x = z[0]\n",
    "    y = z[1]\n",
    "    t1 = z[2]\n",
    "    t2 = z[3]\n",
    "    f1 = z[4]\n",
    "    f2 = z[5]\n",
    "\n",
    "    F = np.zeros(6)\n",
    "    F[0] = (x-l*np.cos(t1)-L*np.cos(f1))\n",
    "    F[1] = (x-l*np.cos(t2)-L*np.cos(f2)-d)\n",
    "    F[2] = (y-l*np.sin(t1)-L*np.sin(f1))\n",
    "    F[3] = (y-l*np.sin(t2)-L*np.sin(f2))\n",
    "    F[4] = sing_f_1(x,y,t1,t2,f1,f2)\n",
    "    return F\n",
    "\n",
    "def kinematic_eq_sing2(z):\n",
    "    x = z[0]\n",
    "    y = z[1]\n",
    "    t1 = z[2]\n",
    "    t2 = z[3]\n",
    "    f1 = z[4]\n",
    "    f2 = z[5]\n",
    "\n",
    "    F = np.zeros(6)\n",
    "    F[0] = (x-l*np.cos(t1)-L*np.cos(f1))\n",
    "    F[1] = (x-l*np.cos(t2)-L*np.cos(f2)-d)\n",
    "    F[2] = (y-l*np.sin(t1)-L*np.sin(f1))\n",
    "    F[3] = (y-l*np.sin(t2)-L*np.sin(f2))\n",
    "    F[4] = sing_f_2(x,y,t1,t2,f1,f2)\n",
    "    \n",
    "    return F"
   ]
  },
  {
   "cell_type": "code",
   "execution_count": 16,
   "metadata": {
    "scrolled": false
   },
   "outputs": [
    {
     "name": "stdout",
     "output_type": "stream",
     "text": [
      "Robot work area:\n"
     ]
    },
    {
     "data": {
      "image/png": "[encoded data removed]",
      "text/plain": [
       "<Figure size 432x288 with 1 Axes>"
      ]
     },
     "metadata": {
      "needs_background": "light"
     },
     "output_type": "display_data"
    }
   ],
   "source": [
    "# окружности в питоне легче всего задавать через сферические координаты\n",
    "# тета меняется от 0 до 2pi\n",
    "theta = np.linspace(0, 2*np.pi, 100)\n",
    "\n",
    "x1 = (la+lc)*np.cos(theta)\n",
    "x2 = (la+lc)*np.sin(theta)\n",
    "x3 = 2*lc*np.cos(theta)\n",
    "x4 = 2*lc*np.sin(theta)\n",
    "x5 = (la+lc)*np.cos(theta)+d\n",
    "x6 = (la+lc)*np.sin(theta)\n",
    "x7 = 2*lc*np.cos(theta)+d\n",
    "x8 = 2*lc*np.sin(theta)\n",
    "\n",
    "#задаю сетку для расчёта рабочей области\n",
    "gr_x = np.linspace(-20, 20, 300)\n",
    "gr_y = np.linspace(-20, 20, 300)\n",
    "\n",
    "gr_X, gr_Y = np.meshgrid(gr_x,gr_y)\n",
    "    \n",
    "fig, ax = plt.subplots(1)\n",
    "ax.plot(x1, x2)\n",
    "ax.plot(x3, x4)\n",
    "ax.plot(x5, x6)\n",
    "ax.plot(x7, x8)\n",
    "ax.set_aspect(1)\n",
    "plt.xlabel('x')\n",
    "plt.ylabel('y')\n",
    "print('Robot workspace:')"
   ]
  },
  {
   "cell_type": "code",
   "execution_count": 17,
   "metadata": {},
   "outputs": [],
   "source": [
    "#функция подсчёта площади\n",
    "def count_area_new(d_iter):\n",
    "    S_square=40*40\n",
    "    number_of_points = len(gr_x)*len(gr_y) #50 000\n",
    "    number_inside = 0\n",
    "    for i in range(len(gr_x)):\n",
    "        for j in range(len(gr_y)):\n",
    "            number_inside+=is_inside(gr_x[i], gr_y[j], d_iter)\n",
    "#             is_gran(gr_x[i], gr_y[j], d_iter)\n",
    "#     S=(S_square*number_inside/number_of_points) # /2 из-за того, что области на графике две, но в реальности она одна\n",
    "    S = S_square*len(work_space)/number_of_points\n",
    "    return S"
   ]
  },
  {
   "cell_type": "code",
   "execution_count": 18,
   "metadata": {},
   "outputs": [
    {
     "data": {
      "text/plain": [
       "181.79555555555555"
      ]
     },
     "execution_count": 18,
     "metadata": {},
     "output_type": "execute_result"
    }
   ],
   "source": [
    "count_area_new(d)"
   ]
  },
  {
   "cell_type": "code",
   "execution_count": 19,
   "metadata": {
    "scrolled": true
   },
   "outputs": [
    {
     "name": "stdout",
     "output_type": "stream",
     "text": [
      "Robot work area:\n"
     ]
    },
    {
     "data": {
      "image/png": "[encoded data removed]",
      "text/plain": [
       "<Figure size 432x288 with 1 Axes>"
      ]
     },
     "metadata": {
      "needs_background": "light"
     },
     "output_type": "display_data"
    }
   ],
   "source": [
    "# отрисовка рабочей области\n",
    "print('Robot work area:')\n",
    "fig, ax = plt.subplots(1)\n",
    "ax.plot(x1, x2)\n",
    "ax.plot(x3, x4)\n",
    "ax.plot(x5, x6)\n",
    "ax.plot(x7, x8)\n",
    "plt.scatter(*zip(*work_space), color = 'orange', s=0.2)\n",
    "# plt.scatter(*zip(*gran), color = 'black')\n",
    "plt.axis('equal')\n",
    "plt.xlabel('x')\n",
    "plt.ylabel('y')\n",
    "plt.show()"
   ]
  },
  {
   "cell_type": "code",
   "execution_count": 20,
   "metadata": {},
   "outputs": [
    {
     "name": "stderr",
     "output_type": "stream",
     "text": [
      "C:\\ProgramData\\Anaconda3\\lib\\site-packages\\scipy\\optimize\\minpack.py:162: RuntimeWarning: The iteration is not making good progress, as measured by the \n",
      "  improvement from the last ten iterations.\n",
      "  warnings.warn(msg, RuntimeWarning)\n",
      "C:\\ProgramData\\Anaconda3\\lib\\site-packages\\scipy\\optimize\\minpack.py:162: RuntimeWarning: The iteration is not making good progress, as measured by the \n",
      "  improvement from the last five Jacobian evaluations.\n",
      "  warnings.warn(msg, RuntimeWarning)\n"
     ]
    }
   ],
   "source": [
    "z1 = []\n",
    "i=0\n",
    "while i < len(appr):\n",
    "    zGuess = appr[i]\n",
    "    x_tmp1 = fsolve(kinematic_eq_sing1, zGuess, xtol=tol)\n",
    "    f_tmp1 = kinematic_eq_sing1(x_tmp1)\n",
    "    if np.linalg.norm(np.array(f_tmp1)) < tol:\n",
    "        z1.append(x_tmp1)\n",
    "    i+=1"
   ]
  },
  {
   "cell_type": "code",
   "execution_count": 21,
   "metadata": {},
   "outputs": [
    {
     "data": {
      "image/png": "[encoded data removed]",
      "text/plain": [
       "<Figure size 432x288 with 1 Axes>"
      ]
     },
     "metadata": {
      "needs_background": "light"
     },
     "output_type": "display_data"
    }
   ],
   "source": [
    "sing_xy1 = []\n",
    "for i in z1:\n",
    "    sing_xy1.append([i[0],i[1]])\n",
    "    \n",
    "plt.scatter(*zip(*sing_xy1), color = 'orange', s=0.3)\n",
    "plt.axis('equal')\n",
    "plt.xlabel('x')\n",
    "plt.ylabel('y')\n",
    "plt.show()"
   ]
  },
  {
   "cell_type": "code",
   "execution_count": 22,
   "metadata": {},
   "outputs": [],
   "source": [
    "z2 = []\n",
    "i=0\n",
    "while i < len(appr):\n",
    "    zGuess = appr[i]\n",
    "    x_tmp2 = fsolve(kinematic_eq_sing2, zGuess, xtol=tol)\n",
    "    f_tmp2 = kinematic_eq_sing2(x_tmp2)\n",
    "    if np.linalg.norm(np.array(f_tmp2)) < tol:\n",
    "        z2.append(x_tmp2)\n",
    "    i+=1"
   ]
  },
  {
   "cell_type": "code",
   "execution_count": 23,
   "metadata": {
    "scrolled": false
   },
   "outputs": [
    {
     "data": {
      "image/png": "[encoded data removed]",
      "text/plain": [
       "<Figure size 432x288 with 1 Axes>"
      ]
     },
     "metadata": {
      "needs_background": "light"
     },
     "output_type": "display_data"
    }
   ],
   "source": [
    "sing_xy2 = []\n",
    "for i in z2:\n",
    "    sing_xy2.append([i[0],i[1]])\n",
    "    \n",
    "plt.scatter(*zip(*sing_xy2), color = 'orange', s=0.01)\n",
    "plt.axis('equal')\n",
    "plt.xlabel('x')\n",
    "plt.ylabel('y')\n",
    "plt.show()"
   ]
  },
  {
   "cell_type": "code",
   "execution_count": 25,
   "metadata": {},
   "outputs": [],
   "source": [
    "xMin = -20\n",
    "xMax = 20\n",
    "yMin = -20\n",
    "yMax = 20\n",
    "num_squares = 2**16\n",
    "square_size = abs(xMax-xMin)/np.sqrt(num_squares)\n",
    "ox = np.linspace(xMin, xMax, int(np.sqrt(num_squares)+1))\n",
    "oy = np.linspace(yMin, yMax, int(np.sqrt(num_squares)+1))"
   ]
  },
  {
   "cell_type": "code",
   "execution_count": 26,
   "metadata": {},
   "outputs": [],
   "source": [
    "start = time.time()"
   ]
  },
  {
   "cell_type": "code",
   "execution_count": 27,
   "metadata": {},
   "outputs": [],
   "source": [
    "sing_squares_sing1 = []\n",
    "sing_squares_sing2 = []\n",
    "ws_new_2 = []\n",
    "\n",
    "\n",
    "i = 0\n",
    "while i < len(ox)-1:\n",
    "    j = 0\n",
    "    while j < len(oy)-1:\n",
    "        found1 = False\n",
    "        found2 = False\n",
    "        for s1 in sing_xy1:\n",
    "            if found1 == True:\n",
    "                break\n",
    "            if s1[0] >= ox[i]-tol:\n",
    "                if s1[0] <= ox[i+1] + tol:\n",
    "                    if s1[1] >= oy[j] - tol:\n",
    "                        if s1[1] <= oy[j+1] + tol:\n",
    "                            sing_squares_sing1.append([[ox[i], ox[i+1]],  [oy[j], oy[j+1]]])            \n",
    "                            found1 = True\n",
    "        for s2 in sing_xy2:\n",
    "            if found2 == True:\n",
    "                break\n",
    "            if s2[0] >= ox[i]-tol:\n",
    "                if s2[0] <= ox[i+1] + tol:\n",
    "                    if s2[1] >= oy[j] - tol:\n",
    "                        if s2[1] <= oy[j+1] + tol:\n",
    "                            sing_squares_sing2.append([[ox[i], ox[i+1]],  [oy[j], oy[j+1]]])            \n",
    "                            found2 = True\n",
    "        if (is_inside(ox[i]+square_size/2, oy[j]+square_size/2, d) == 1) and (found1 == False) and (found2 == False):\n",
    "            ws_new_2.append([[ox[i], ox[i+1]],  [oy[j], oy[j+1]]])  \n",
    "        j+=1\n",
    "    i+=1"
   ]
  },
  {
   "cell_type": "code",
   "execution_count": 28,
   "metadata": {},
   "outputs": [
    {
     "name": "stdout",
     "output_type": "stream",
     "text": [
      "734\n",
      "989\n",
      "6392\n"
     ]
    }
   ],
   "source": [
    "print(len(sing_squares_sing1))\n",
    "print(len(sing_squares_sing2))\n",
    "print(len(ws_new_2))"
   ]
  },
  {
   "cell_type": "code",
   "execution_count": 29,
   "metadata": {},
   "outputs": [
    {
     "data": {
      "image/png": "[encoded data removed]",
      "text/plain": [
       "<Figure size 432x288 with 1 Axes>"
      ]
     },
     "metadata": {
      "needs_background": "light"
     },
     "output_type": "display_data"
    }
   ],
   "source": [
    "plt.figure()\n",
    "currentAxis = plt.gca()\n",
    "for i in ws_new_2:\n",
    "    someX, someY = i[0][0], i[1][0]\n",
    "    currentAxis.add_patch(Rectangle((someX, someY), square_size, square_size, alpha=1,color='Orange'))\n",
    "for i in sing_squares_sing1:\n",
    "    someX, someY = i[0][0], i[1][0]\n",
    "    currentAxis.add_patch(Rectangle((someX, someY), square_size, square_size, alpha=1,color='Blue'))\n",
    "for i in sing_squares_sing2:\n",
    "    someX, someY = i[0][0], i[1][0]\n",
    "    currentAxis.add_patch(Rectangle((someX, someY), square_size, square_size, alpha=1,color='Red'))\n",
    "\n",
    "currentAxis.axis('equal')\n",
    "plt.xlabel('x')\n",
    "plt.ylabel('y')\n",
    "fig.set_size_inches(100, 100)\n",
    "plt.savefig('sing_ws_sq_16.png', dpi=500)"
   ]
  },
  {
   "cell_type": "code",
   "execution_count": 37,
   "metadata": {},
   "outputs": [
    {
     "data": {
      "image/png": "[encoded data removed]",
      "text/plain": [
       "<Figure size 432x288 with 1 Axes>"
      ]
     },
     "metadata": {
      "needs_background": "light"
     },
     "output_type": "display_data"
    }
   ],
   "source": [
    "plt.figure()\n",
    "currentAxis = plt.gca()\n",
    "for i in ws_new_2:\n",
    "    someX, someY = i[0][0], i[1][0]\n",
    "    currentAxis.add_patch(Rectangle((someX, someY), square_size, square_size, alpha=1,color='Orange'))\n",
    "\n",
    "currentAxis.axis('equal')\n",
    "plt.xlabel('x')\n",
    "plt.ylabel('y')\n",
    "fig.set_size_inches(200, 200)\n",
    "plt.savefig('ws_sq_16.png', dpi=500)"
   ]
  },
  {
   "cell_type": "code",
   "execution_count": 43,
   "metadata": {},
   "outputs": [],
   "source": [
    "ws_components = []\n",
    "ws_to_check = ws_new_2.copy()\n",
    "\n",
    "while len(ws_to_check) > 0:\n",
    "    curr_component = []\n",
    "    init_box = ws_to_check.pop(0)\n",
    "    curr_component.append(init_box)\n",
    "    for i in curr_component:\n",
    "        for j in ws_to_check:\n",
    "            if np.sqrt( (i[0][0]+square_size/2-(j[0][0]+square_size/2))**2 + (i[1][0]+square_size/2-(j[1][0]+square_size/2))**2 ) <= (square_size+square_size*tol):\n",
    "                curr_component.append(j)\n",
    "                ws_to_check.remove(j)\n",
    "    ws_components.append(curr_component)"
   ]
  },
  {
   "cell_type": "code",
   "execution_count": 44,
   "metadata": {},
   "outputs": [
    {
     "data": {
      "text/plain": [
       "46"
      ]
     },
     "execution_count": 44,
     "metadata": {},
     "output_type": "execute_result"
    }
   ],
   "source": [
    "len(ws_components)"
   ]
  },
  {
   "cell_type": "code",
   "execution_count": null,
   "metadata": {},
   "outputs": [],
   "source": [
    "end = time.time()\n",
    "print(end - start)"
   ]
  },
  {
   "cell_type": "code",
   "execution_count": 45,
   "metadata": {},
   "outputs": [
    {
     "data": {
      "image/png": "[encoded data removed]",
      "text/plain": [
       "<Figure size 432x288 with 1 Axes>"
      ]
     },
     "metadata": {
      "needs_background": "light"
     },
     "output_type": "display_data"
    }
   ],
   "source": [
    "plt.figure()\n",
    "currentAxis = plt.gca()\n",
    "for i in ws_components:\n",
    "    rgb = (random.random(), random.random(), random.random())\n",
    "    for j in i:\n",
    "        someX, someY = j[0][0], j[1][0]\n",
    "        currentAxis.add_patch(Rectangle((someX, someY), square_size, square_size, alpha=1,color=rgb))\n",
    "\n",
    "currentAxis.axis('equal')\n",
    "plt.xlabel('x')\n",
    "plt.ylabel('y')\n",
    "# plt.show()\n",
    "fig.set_size_inches(100, 100)\n",
    "plt.savefig('ws_components_sq_16.png', dpi=500)"
   ]
  },
  {
   "cell_type": "code",
   "execution_count": 46,
   "metadata": {},
   "outputs": [
    {
     "data": {
      "image/png": "[encoded data removed]",
      "text/plain": [
       "<Figure size 432x288 with 1 Axes>"
      ]
     },
     "metadata": {
      "needs_background": "light"
     },
     "output_type": "display_data"
    }
   ],
   "source": [
    "plt.figure()\n",
    "currentAxis = plt.gca()\n",
    "for i in ws_components:\n",
    "    rgb = (random.random(), random.random(), random.random())\n",
    "    for j in i:\n",
    "        someX, someY = j[0][0], j[1][0]\n",
    "        currentAxis.add_patch(Rectangle((someX, someY), square_size, square_size, alpha=1,color=rgb))\n",
    "for i in sing_squares_sing1:\n",
    "    someX, someY = i[0][0], i[1][0]\n",
    "    currentAxis.add_patch(Rectangle((someX, someY), square_size, square_size, alpha=1,color='Blue'))\n",
    "for i in sing_squares_sing2:\n",
    "    someX, someY = i[0][0], i[1][0]\n",
    "    currentAxis.add_patch(Rectangle((someX, someY), square_size, square_size, alpha=1,color='Red'))\n",
    "\n",
    "currentAxis.axis('equal')\n",
    "plt.xlabel('x')\n",
    "plt.ylabel('y')\n",
    "# plt.show()\n",
    "fig.set_size_inches(100, 100)\n",
    "plt.savefig('ws_component_sing_sq_16.png', dpi=500)"
   ]
  },
  {
   "cell_type": "code",
   "execution_count": null,
   "metadata": {},
   "outputs": [],
   "source": []
  }
 ],
 "metadata": {
  "kernelspec": {
   "display_name": "Python 3",
   "language": "python",
   "name": "python3"
  },
  "language_info": {
   "codemirror_mode": {
    "name": "ipython",
    "version": 3
   },
   "file_extension": ".py",
   "mimetype": "text/x-python",
   "name": "python",
   "nbconvert_exporter": "python",
   "pygments_lexer": "ipython3",
   "version": "3.7.3"
  }
 },
 "nbformat": 4,
 "nbformat_minor": 2
}
